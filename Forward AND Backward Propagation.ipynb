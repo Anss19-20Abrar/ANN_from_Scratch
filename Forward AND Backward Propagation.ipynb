{
 "cells": [
  {
   "cell_type": "markdown",
   "id": "0900cb95",
   "metadata": {},
   "source": [
    "# Simple Perceptron\n",
    "\n",
    "\n",
    "with real values as inputs\n",
    "\n",
    "\n",
    "Weights\n",
    "\n",
    "\n",
    "loss calculation\n",
    "\n",
    "\n",
    "updating weights"
   ]
  },
  {
   "cell_type": "code",
   "execution_count": 1,
   "id": "7201e04f",
   "metadata": {},
   "outputs": [],
   "source": [
    "import numpy as np"
   ]
  },
  {
   "cell_type": "markdown",
   "id": "85810901",
   "metadata": {},
   "source": [
    "# Input to the perceptron"
   ]
  },
  {
   "cell_type": "code",
   "execution_count": 2,
   "id": "700ef5a0",
   "metadata": {},
   "outputs": [],
   "source": [
    "features=np.array([[0,0],[0,1],[1,0],[1,1]])"
   ]
  },
  {
   "cell_type": "markdown",
   "id": "01d74f9b",
   "metadata": {},
   "source": [
    "# Labels for input"
   ]
  },
  {
   "cell_type": "code",
   "execution_count": 3,
   "id": "026b4c6f",
   "metadata": {},
   "outputs": [],
   "source": [
    "#target labels\n",
    "labels=np.array([0,0,0,1])"
   ]
  },
  {
   "cell_type": "markdown",
   "id": "7a8e7326",
   "metadata": {},
   "source": [
    "# Intialization of weights"
   ]
  },
  {
   "cell_type": "code",
   "execution_count": 4,
   "id": "b3901fd9",
   "metadata": {},
   "outputs": [],
   "source": [
    "w=[0.9,0.9]"
   ]
  },
  {
   "cell_type": "code",
   "execution_count": 5,
   "id": "a3c88f73",
   "metadata": {},
   "outputs": [
    {
     "data": {
      "text/plain": [
       "4"
      ]
     },
     "execution_count": 5,
     "metadata": {},
     "output_type": "execute_result"
    }
   ],
   "source": [
    "#no of instances in feature array\n",
    "features.shape[0]"
   ]
  },
  {
   "cell_type": "code",
   "execution_count": 6,
   "id": "65dcc842",
   "metadata": {},
   "outputs": [
    {
     "data": {
      "text/plain": [
       "array([0, 0, 0, 1])"
      ]
     },
     "execution_count": 6,
     "metadata": {},
     "output_type": "execute_result"
    }
   ],
   "source": [
    "labels"
   ]
  },
  {
   "cell_type": "code",
   "execution_count": 7,
   "id": "41614494",
   "metadata": {},
   "outputs": [
    {
     "name": "stdout",
     "output_type": "stream",
     "text": [
      "[0 0]\n",
      "[0 1]\n",
      "[1 0]\n",
      "[1 1]\n"
     ]
    }
   ],
   "source": [
    "#print all the features or input data\n",
    "for i in range(0,features.shape[0]):\n",
    "    print(features[i])"
   ]
  },
  {
   "cell_type": "markdown",
   "id": "f84efb03",
   "metadata": {},
   "source": [
    "# Lets define instances as x1 and x2 "
   ]
  },
  {
   "cell_type": "code",
   "execution_count": 8,
   "id": "a429757a",
   "metadata": {},
   "outputs": [],
   "source": [
    "for i in range(0,features.shape[0]):\n",
    "    instances=(features[i])\n",
    "    \n",
    "    x1=instances[0]\n",
    "    x2=instances[1]"
   ]
  },
  {
   "cell_type": "markdown",
   "id": "c326dcfa",
   "metadata": {},
   "source": [
    "# Dot Product of inputs and weights"
   ]
  },
  {
   "cell_type": "code",
   "execution_count": 9,
   "id": "d9e876ca",
   "metadata": {},
   "outputs": [],
   "source": [
    "for i in range(0,features.shape[0]):\n",
    "    samples=(features[i])\n",
    "    \n",
    "    x1=instances[0]\n",
    "    x2=instances[1]\n",
    "    \n",
    "    sum=x1*w[0]+x2*w[1]"
   ]
  },
  {
   "cell_type": "markdown",
   "id": "3cbb4aa4",
   "metadata": {},
   "source": [
    "# Compare the sum value with threshold value"
   ]
  },
  {
   "cell_type": "code",
   "execution_count": 10,
   "id": "7520e901",
   "metadata": {},
   "outputs": [],
   "source": [
    "threshold=0.5"
   ]
  },
  {
   "cell_type": "code",
   "execution_count": 11,
   "id": "25fb5a98",
   "metadata": {},
   "outputs": [],
   "source": [
    "for i in range(0,features.shape[0]):\n",
    "    instances=(features[i])\n",
    "    \n",
    "    x1=instances[0]\n",
    "    x2=instances[1]\n",
    "    \n",
    "    sum=x1*w[0]+x2*w[1]\n",
    "    \n",
    "    if sum > threshold:\n",
    "        output=1\n",
    "        \n",
    "    else:\n",
    "        output=0\n",
    "        "
   ]
  },
  {
   "cell_type": "markdown",
   "id": "2d1034d4",
   "metadata": {},
   "source": [
    "# Print the prediction"
   ]
  },
  {
   "cell_type": "code",
   "execution_count": 12,
   "id": "6e0a7a10",
   "metadata": {},
   "outputs": [
    {
     "name": "stdout",
     "output_type": "stream",
     "text": [
      "The prediction is  0\n",
      "The prediction is  1\n",
      "The prediction is  1\n",
      "The prediction is  1\n"
     ]
    }
   ],
   "source": [
    "for i in range(0,features.shape[0]):\n",
    "    instances=(features[i])\n",
    "    \n",
    "    x1=instances[0]\n",
    "    x2=instances[1]\n",
    "    \n",
    "    sum=x1*w[0]+x2*w[1]\n",
    "    \n",
    "    if sum > threshold:\n",
    "        output=1\n",
    "        \n",
    "    else:\n",
    "        output=0\n",
    "        \n",
    "    print(\"The prediction is \",output)"
   ]
  },
  {
   "cell_type": "markdown",
   "id": "985d98b9",
   "metadata": {},
   "source": [
    "# Now compare the predicted value with output value"
   ]
  },
  {
   "cell_type": "code",
   "execution_count": 13,
   "id": "93770074",
   "metadata": {},
   "outputs": [
    {
     "name": "stdout",
     "output_type": "stream",
     "text": [
      "The prediction is  0   Where the actual value is  0\n",
      "The prediction is  1   Where the actual value is  0\n",
      "The prediction is  1   Where the actual value is  0\n",
      "The prediction is  1   Where the actual value is  1\n"
     ]
    }
   ],
   "source": [
    "for i in range(0,features.shape[0]):\n",
    "    instances=(features[i])\n",
    "    \n",
    "    x1=instances[0]\n",
    "    x2=instances[1]\n",
    "    \n",
    "    sum=x1*w[0]+x2*w[1]\n",
    "    \n",
    "    if sum > threshold:\n",
    "        output=1\n",
    "        \n",
    "    else:\n",
    "        output=0\n",
    "        \n",
    "    print(\"The prediction is \",output,\" \", \"Where the actual value is \",labels[i])"
   ]
  },
  {
   "cell_type": "markdown",
   "id": "75ac710f",
   "metadata": {},
   "source": [
    "# Calculate Loss"
   ]
  },
  {
   "cell_type": "code",
   "execution_count": 14,
   "id": "7a38cdb6",
   "metadata": {},
   "outputs": [
    {
     "name": "stdout",
     "output_type": "stream",
     "text": [
      "The prediction is  0   Where the actual value is  0   and loss of the network is  0\n",
      "The prediction is  1   Where the actual value is  0   and loss of the network is  -1\n",
      "The prediction is  1   Where the actual value is  0   and loss of the network is  -1\n",
      "The prediction is  1   Where the actual value is  1   and loss of the network is  0\n"
     ]
    }
   ],
   "source": [
    "for i in range(0,features.shape[0]):\n",
    "    actual=labels[i]\n",
    "    instances=(features[i])\n",
    "    \n",
    "    x1=instances[0]\n",
    "    x2=instances[1]\n",
    "    \n",
    "    sum=x1*w[0]+x2*w[1]\n",
    "    \n",
    "    if sum > threshold:\n",
    "        output=1\n",
    "        \n",
    "    else:\n",
    "        output=0\n",
    "        \n",
    "    loss= actual - output\n",
    "    \n",
    "    print(\"The prediction is \",output,\" \", \"Where the actual value is \",labels[i],\" \", \"and loss of the network is \",loss)"
   ]
  },
  {
   "cell_type": "markdown",
   "id": "0255eee3",
   "metadata": {},
   "source": [
    "# Update the weights(we need learning rate value)"
   ]
  },
  {
   "cell_type": "code",
   "execution_count": 15,
   "id": "cab983ad",
   "metadata": {},
   "outputs": [],
   "source": [
    "learning_rate=0.1"
   ]
  },
  {
   "cell_type": "code",
   "execution_count": 16,
   "id": "ec521f3f",
   "metadata": {},
   "outputs": [],
   "source": [
    "for i in range(0,features.shape[0]):\n",
    "    actual=labels[i]\n",
    "    instances=(features[i])\n",
    "    \n",
    "    x1=instances[0]\n",
    "    x2=instances[1]\n",
    "    \n",
    "    sum=x1*w[0]+x2*w[1]\n",
    "    \n",
    "    if sum > threshold:\n",
    "        output=1\n",
    "        \n",
    "    else:\n",
    "        output=0\n",
    "        \n",
    "    loss= actual - output\n",
    "    \n",
    "    w[0] = w[0] + loss * learning_rate\n",
    "    w[1] = w[1] + loss * learning_rate"
   ]
  },
  {
   "cell_type": "markdown",
   "id": "a0590a9b",
   "metadata": {},
   "source": [
    "# How to show the effect of updated weights?\n",
    "\n",
    "We have to run the network for another iteration"
   ]
  },
  {
   "cell_type": "code",
   "execution_count": 17,
   "id": "6f45b191",
   "metadata": {},
   "outputs": [],
   "source": [
    "epoch=5"
   ]
  },
  {
   "cell_type": "markdown",
   "id": "fc14c126",
   "metadata": {},
   "source": [
    "# Concept of epox and the traing of the network"
   ]
  },
  {
   "cell_type": "code",
   "execution_count": 18,
   "id": "d70b0750",
   "metadata": {},
   "outputs": [
    {
     "name": "stdout",
     "output_type": "stream",
     "text": [
      "epoch 0\n",
      "The prediction is  0   Where the actual value is  0   and loss of the network is  0\n",
      "The prediction is  1   Where the actual value is  0   and loss of the network is  -1\n",
      "The prediction is  1   Where the actual value is  0   and loss of the network is  -1\n",
      "The prediction is  1   Where the actual value is  1   and loss of the network is  0\n",
      "-----------------\n",
      "epoch 1\n",
      "The prediction is  0   Where the actual value is  0   and loss of the network is  0\n",
      "The prediction is  1   Where the actual value is  0   and loss of the network is  -1\n",
      "The prediction is  0   Where the actual value is  0   and loss of the network is  0\n",
      "The prediction is  1   Where the actual value is  1   and loss of the network is  0\n",
      "-----------------\n",
      "epoch 2\n",
      "The prediction is  0   Where the actual value is  0   and loss of the network is  0\n",
      "The prediction is  0   Where the actual value is  0   and loss of the network is  0\n",
      "The prediction is  0   Where the actual value is  0   and loss of the network is  0\n",
      "The prediction is  1   Where the actual value is  1   and loss of the network is  0\n",
      "-----------------\n",
      "epoch 3\n",
      "The prediction is  0   Where the actual value is  0   and loss of the network is  0\n",
      "The prediction is  0   Where the actual value is  0   and loss of the network is  0\n",
      "The prediction is  0   Where the actual value is  0   and loss of the network is  0\n",
      "The prediction is  1   Where the actual value is  1   and loss of the network is  0\n",
      "-----------------\n",
      "epoch 4\n",
      "The prediction is  0   Where the actual value is  0   and loss of the network is  0\n",
      "The prediction is  0   Where the actual value is  0   and loss of the network is  0\n",
      "The prediction is  0   Where the actual value is  0   and loss of the network is  0\n",
      "The prediction is  1   Where the actual value is  1   and loss of the network is  0\n",
      "-----------------\n"
     ]
    }
   ],
   "source": [
    "for j in range(0,epoch):\n",
    "    print(\"epoch\",j)\n",
    "    for i in range(0,features.shape[0]):\n",
    "        actual=labels[i]\n",
    "        instances=(features[i])\n",
    "        \n",
    "        x1=instances[0]\n",
    "        x2=instances[1]\n",
    "    \n",
    "        sum=x1*w[0]+x2*w[1]\n",
    "    \n",
    "        if sum > threshold:\n",
    "            output=1\n",
    "        \n",
    "        else:\n",
    "            output=0\n",
    "        \n",
    "        loss= actual - output\n",
    "    \n",
    "        print(\"The prediction is \",output,\" \", \"Where the actual value is \",labels[i],\" \", \"and loss of the network is \",loss)\n",
    "        \n",
    "        w[0] = w[0] + loss * learning_rate\n",
    "        w[1] = w[1] + loss * learning_rate\n",
    "    \n",
    "    print(\"-----------------\")"
   ]
  },
  {
   "cell_type": "markdown",
   "id": "9d5ee6f2",
   "metadata": {},
   "source": [
    "# We should terminate the epoch when actual and predicted value will be same"
   ]
  },
  {
   "cell_type": "code",
   "execution_count": 8,
   "id": "f7e9b9f1",
   "metadata": {},
   "outputs": [],
   "source": [
    "import numpy as np"
   ]
  },
  {
   "cell_type": "code",
   "execution_count": 9,
   "id": "aeaa4fd3",
   "metadata": {},
   "outputs": [],
   "source": [
    "features=np.array([[0,0],[0,1],[1,0],[1,1]])"
   ]
  },
  {
   "cell_type": "code",
   "execution_count": 10,
   "id": "007cab3b",
   "metadata": {},
   "outputs": [],
   "source": [
    "#target labels\n",
    "labels=[0,0,0,1]"
   ]
  },
  {
   "cell_type": "code",
   "execution_count": 11,
   "id": "839e8102",
   "metadata": {},
   "outputs": [],
   "source": [
    "w=[0.9,0.9]"
   ]
  },
  {
   "cell_type": "code",
   "execution_count": 12,
   "id": "6d4587ea",
   "metadata": {},
   "outputs": [],
   "source": [
    "threshold=0.5"
   ]
  },
  {
   "cell_type": "code",
   "execution_count": 13,
   "id": "966cf0fd",
   "metadata": {},
   "outputs": [],
   "source": [
    "learning_rate=0.1\n",
    "epoch=20"
   ]
  },
  {
   "cell_type": "code",
   "execution_count": 14,
   "id": "95b2b7eb",
   "metadata": {},
   "outputs": [
    {
     "name": "stdout",
     "output_type": "stream",
     "text": [
      "epoch 0\n",
      "prediction 0   Where the actual value is  0   and loss of the network is  0\n",
      "prediction 1   Where the actual value is  0   and loss of the network is  -1\n",
      "prediction 1   Where the actual value is  0   and loss of the network is  -1\n",
      "prediction 1   Where the actual value is  1   and loss of the network is  0\n",
      "-----------------\n",
      "epoch 1\n",
      "prediction 0   Where the actual value is  0   and loss of the network is  0\n",
      "prediction 1   Where the actual value is  0   and loss of the network is  -1\n",
      "prediction 1   Where the actual value is  0   and loss of the network is  -1\n",
      "prediction 1   Where the actual value is  1   and loss of the network is  0\n",
      "-----------------\n",
      "epoch 2\n",
      "prediction 0   Where the actual value is  0   and loss of the network is  0\n",
      "prediction 1   Where the actual value is  0   and loss of the network is  -1\n",
      "prediction 0   Where the actual value is  0   and loss of the network is  0\n",
      "prediction 1   Where the actual value is  1   and loss of the network is  0\n",
      "-----------------\n",
      "epoch 3\n",
      "prediction 0   Where the actual value is  0   and loss of the network is  0\n",
      "prediction 0   Where the actual value is  0   and loss of the network is  0\n",
      "prediction 0   Where the actual value is  0   and loss of the network is  0\n",
      "prediction 1   Where the actual value is  1   and loss of the network is  0\n",
      "-----------------\n"
     ]
    }
   ],
   "source": [
    "for j in range(0,epoch):\n",
    "    print(\"epoch\",j)\n",
    "    global_delta=0\n",
    "    for i in range(0,features.shape[0]):\n",
    "        actual=labels[i]\n",
    "        instances=features[i]\n",
    "        \n",
    "        x0=instances[0]\n",
    "        x1=instances[1]\n",
    "    \n",
    "        sum_unit=x0*w[0]+x1*w[1]\n",
    "    \n",
    "        if sum_unit > threshold:\n",
    "            fire=1\n",
    "        \n",
    "        else:\n",
    "            fire=0\n",
    "        \n",
    "        delta= actual - fire\n",
    "        global_delta=global_delta + delta\n",
    "    \n",
    "        print(\"prediction\",fire,\" \", \"Where the actual value is \",actual,\" \", \"and loss of the network is \",delta)\n",
    "        \n",
    "        w[0] = w[0] + delta * learning_rate\n",
    "        w[1] = w[1] + delta * learning_rate\n",
    "    \n",
    "    print(\"-----------------\")\n",
    "    if global_delta==0:\n",
    "        break"
   ]
  },
  {
   "cell_type": "code",
   "execution_count": null,
   "id": "84a7c331",
   "metadata": {},
   "outputs": [],
   "source": []
  },
  {
   "cell_type": "code",
   "execution_count": null,
   "id": "7bab49df",
   "metadata": {},
   "outputs": [],
   "source": []
  },
  {
   "cell_type": "code",
   "execution_count": null,
   "id": "97c2e7df",
   "metadata": {},
   "outputs": [],
   "source": []
  }
 ],
 "metadata": {
  "kernelspec": {
   "display_name": "Python 3 (ipykernel)",
   "language": "python",
   "name": "python3"
  },
  "language_info": {
   "codemirror_mode": {
    "name": "ipython",
    "version": 3
   },
   "file_extension": ".py",
   "mimetype": "text/x-python",
   "name": "python",
   "nbconvert_exporter": "python",
   "pygments_lexer": "ipython3",
   "version": "3.11.5"
  }
 },
 "nbformat": 4,
 "nbformat_minor": 5
}
