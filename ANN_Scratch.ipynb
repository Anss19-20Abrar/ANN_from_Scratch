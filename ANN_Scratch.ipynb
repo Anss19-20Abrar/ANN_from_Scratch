{
 "cells": [
  {
   "cell_type": "code",
   "execution_count": 70,
   "id": "ade159fd",
   "metadata": {},
   "outputs": [],
   "source": [
    "import numpy as np"
   ]
  },
  {
   "cell_type": "code",
   "execution_count": 71,
   "id": "330bb96c",
   "metadata": {},
   "outputs": [],
   "source": [
    "# Define input data\n",
    "input_data = np.array([0.8, 0.2, 0.5])\n",
    "input_size=3"
   ]
  },
  {
   "cell_type": "code",
   "execution_count": 72,
   "id": "8e143ee3",
   "metadata": {},
   "outputs": [],
   "source": [
    "# Define weights and bias for the perceptron\n",
    "weights = np.random.rand(3)\n",
    "bias = np.random.rand()"
   ]
  },
  {
   "cell_type": "code",
   "execution_count": 73,
   "id": "e7d11574",
   "metadata": {},
   "outputs": [
    {
     "name": "stdout",
     "output_type": "stream",
     "text": [
      "weights :  [0.85947439 0.96380995 0.66679359]\n",
      "bias :  0.3805626327076491\n"
     ]
    }
   ],
   "source": [
    "print(\"weights : \",weights )\n",
    "print(\"bias : \", bias)"
   ]
  },
  {
   "cell_type": "code",
   "execution_count": 74,
   "id": "d4a24ee6",
   "metadata": {},
   "outputs": [
    {
     "name": "stdout",
     "output_type": "stream",
     "text": [
      "Before Activation Sum of Weights is :  1.5943009298838442\n"
     ]
    }
   ],
   "source": [
    "# Calculating the weighted sum of inputs and add bias\n",
    "Sum_weights = np.dot(input_data,weights) + bias\n",
    "print(\"Before Activation Sum of Weights is : \",Sum_weights)"
   ]
  },
  {
   "cell_type": "code",
   "execution_count": 75,
   "id": "b01a4fc8",
   "metadata": {},
   "outputs": [],
   "source": [
    "# Define the activation function (in this case, a step function)\n",
    "def activation_function(x):\n",
    "    threshold = 50.0 \n",
    "    return 1 if x > threshold else 0"
   ]
  },
  {
   "cell_type": "code",
   "execution_count": 76,
   "id": "aaf63f4c",
   "metadata": {},
   "outputs": [],
   "source": [
    "# Perform forward propagation\n",
    "# weighted_sum = np.dot(input_data, weights) + bias\n",
    "# print(weighted_sum)\n",
    "output = activation_function(Sum_weights)"
   ]
  },
  {
   "cell_type": "code",
   "execution_count": 77,
   "id": "4cb58da2",
   "metadata": {},
   "outputs": [
    {
     "name": "stdout",
     "output_type": "stream",
     "text": [
      "Output of the perceptron: 0\n"
     ]
    }
   ],
   "source": [
    "print(\"Output of the perceptron:\", output)"
   ]
  },
  {
   "cell_type": "code",
   "execution_count": 78,
   "id": "1f0a6668",
   "metadata": {},
   "outputs": [],
   "source": [
    "# Sigmoid function\n",
    "def Sigmoid_Function(x):\n",
    "    return 1/ (1 + np.exp(-x))"
   ]
  },
  {
   "cell_type": "code",
   "execution_count": 79,
   "id": "4b7d7946",
   "metadata": {},
   "outputs": [
    {
     "name": "stdout",
     "output_type": "stream",
     "text": [
      "Sigmoid Activation Function Output: 0.8312203536118633\n"
     ]
    }
   ],
   "source": [
    "output = Sigmoid_Function(Sum_weights)\n",
    "print(\"Sigmoid Activation Function Output:\", output)"
   ]
  },
  {
   "cell_type": "markdown",
   "id": "ac5f0a53",
   "metadata": {},
   "source": [
    "Multilayer Neuro Network "
   ]
  },
  {
   "cell_type": "code",
   "execution_count": 80,
   "id": "a4c79546",
   "metadata": {},
   "outputs": [],
   "source": [
    "M_input_data = np.array([0.5,2.5,5.5])\n",
    "\n",
    "R_weights = np.random.rand(3,3)  # 3Layers and nuerons\n",
    "R_bias = np.random.randint(1,101 , size=3)"
   ]
  },
  {
   "cell_type": "code",
   "execution_count": 81,
   "metadata": {},
   "outputs": [
    {
     "name": "stdout",
     "output_type": "stream",
     "text": [
      "Randomly Generated Weights:\n",
      " [[0.58656101 0.69439771 0.66453198]\n",
      " [0.20238962 0.08113743 0.14029306]\n",
      " [0.59121938 0.71208879 0.17595166]]\n",
      "Randomly Generated Biases: [59 94 82]\n"
     ]
    }
   ],
   "source": [
    "print(\"Randomly Generated Weights:\\n\", R_weights)\n",
    "print(\"Randomly Generated Biases:\", R_bias)"
   ]
  },
  {
   "cell_type": "code",
   "execution_count": 82,
   "id": "1dd616eb",
   "metadata": {},
   "outputs": [
    {
     "name": "stdout",
     "output_type": "stream",
     "text": [
      "Before Activation Sum of Weights is :  [63.05096116 98.46653076 83.65073278]\n"
     ]
    }
   ],
   "source": [
    "# Calculating the weighted sum of inputs and add bias\n",
    "Sum_of_weights = np.dot(M_input_data,R_weights)+ R_bias\n",
    "print(\"Before Activation Sum of Weights is : \",Sum_of_weights)"
   ]
  },
  {
   "cell_type": "code",
   "execution_count": 83,
   "id": "74cf7fb4",
   "metadata": {},
   "outputs": [
    {
     "name": "stdout",
     "output_type": "stream",
     "text": [
      "Output of the perceptron: [1 1 1]\n"
     ]
    }
   ],
   "source": [
    "# using activation function\n",
    "def activation_function(val):\n",
    "    threshold = 50.0\n",
    "    return np.where(val > threshold, 1, 0)\n",
    "Output = activation_function(Sum_of_weights)\n",
    "print(\"Output of the perceptron:\", Output)"
   ]
  },
  {
   "cell_type": "code",
   "execution_count": 84,
   "id": "7f746196",
   "metadata": {},
   "outputs": [
    {
     "name": "stdout",
     "output_type": "stream",
     "text": [
      "Sigmoid Activation Function Output For Input Layer: [1. 1. 1.]\n"
     ]
    }
   ],
   "source": [
    "# Sigmoid Activation Functions \n",
    "Sigmoid_Output = Sigmoid_Function(Sum_of_weights)\n",
    "print(\"Sigmoid Activation Function Output For Input Layer:\", Sigmoid_Output)"
   ]
  },
  {
   "cell_type": "markdown",
   "id": "78b7e78d",
   "metadata": {},
   "source": [
    "Hidden layers \n",
    "\n",
    "in which Sigmoid Output become an input for nexr layer"
   ]
  },
  {
   "cell_type": "code",
   "execution_count": 85,
   "id": "c1d883e0",
   "metadata": {},
   "outputs": [
    {
     "name": "stdout",
     "output_type": "stream",
     "text": [
      "Randomly Generated Weights:\n",
      " [[0.62351644 0.00286539 0.79605547]\n",
      " [0.07330689 0.88590194 0.38177469]\n",
      " [0.49235247 0.13103564 0.90714433]]\n",
      "Randomly Generated Biases: [40 65  3]\n"
     ]
    }
   ],
   "source": [
    "H_weights = np.random.rand(3,3)  # 3Layers and nuerons\n",
    "H_bias = np.random.randint(1,101 , size=3)\n",
    "\n",
    "\n",
    "print(\"Randomly Generated Weights:\\n\", H_weights)\n",
    "print(\"Randomly Generated Biases:\", H_bias)"
   ]
  },
  {
   "cell_type": "code",
   "execution_count": 86,
   "id": "e36f4b53",
   "metadata": {},
   "outputs": [
    {
     "name": "stdout",
     "output_type": "stream",
     "text": [
      "Before Activation Sum of Weights is :  [41.1891758  66.01980298  5.08497449]\n"
     ]
    }
   ],
   "source": [
    "# Calculating the weighted sum of inputs and add bias\n",
    "Sum_H_weights = np.dot(Sigmoid_Output,H_weights)+ H_bias\n",
    "print(\"Before Activation Sum of Weights is : \",Sum_H_weights)"
   ]
  },
  {
   "cell_type": "code",
   "execution_count": 87,
   "id": "0917bdfb",
   "metadata": {},
   "outputs": [
    {
     "name": "stdout",
     "output_type": "stream",
     "text": [
      "Output of the perceptron: [0 1 0]\n"
     ]
    }
   ],
   "source": [
    "# Activation Fucntion\n",
    "H_Activation_Output = activation_function(Sum_H_weights)\n",
    "print(\"Output of the perceptron:\", H_Activation_Output)"
   ]
  },
  {
   "cell_type": "code",
   "execution_count": 88,
   "id": "89d163c7",
   "metadata": {},
   "outputs": [
    {
     "name": "stdout",
     "output_type": "stream",
     "text": [
      "Sigmoid Activation Function Output For Input Layer: [1.         1.         0.99384902]\n"
     ]
    }
   ],
   "source": [
    "# Sigmoid Activation Functions \n",
    "H_Sigmoid_Output = Sigmoid_Function(Sum_H_weights)\n",
    "print(\"Sigmoid Activation Function Output For Input Layer:\", H_Sigmoid_Output)"
   ]
  },
  {
   "cell_type": "markdown",
   "id": "59d86312",
   "metadata": {},
   "source": [
    "Final Single Neuron output "
   ]
  },
  {
   "cell_type": "code",
   "execution_count": 94,
   "id": "f39a0386",
   "metadata": {},
   "outputs": [
    {
     "name": "stdout",
     "output_type": "stream",
     "text": [
      "Randomly Generated Weights:\n",
      " [0.01442831 0.82114503 0.13784612]\n",
      "Randomly Generated Biases: 88\n"
     ]
    }
   ],
   "source": [
    "F_input_data = np.array([0.5,2.5,5.5])\n",
    "\n",
    "F_weights = np.random.rand(3)  # 3Layers and nuerons\n",
    "F_bias = np.random.randint(1,101)\n",
    "\n",
    "\n",
    "print(\"Randomly Generated Weights:\\n\", F_weights)\n",
    "print(\"Randomly Generated Biases:\", F_bias)"
   ]
  },
  {
   "cell_type": "code",
   "execution_count": 95,
   "id": "31c49cfb",
   "metadata": {},
   "outputs": [
    {
     "name": "stdout",
     "output_type": "stream",
     "text": [
      "Before Activation Sum of Weights is :  88.97257157509489\n"
     ]
    }
   ],
   "source": [
    "# Calculating the weighted sum of inputs and add bias\n",
    "Sum_F_weights = np.dot(H_Sigmoid_Output,F_weights)+ F_bias\n",
    "print(\"Before Activation Sum of Weights is : \",Sum_F_weights)"
   ]
  },
  {
   "cell_type": "code",
   "execution_count": 96,
   "id": "d00421ca",
   "metadata": {},
   "outputs": [
    {
     "name": "stdout",
     "output_type": "stream",
     "text": [
      "Output of the perceptron: 1\n"
     ]
    }
   ],
   "source": [
    "# Activation Fucntion\n",
    "F_Activation_Output = activation_function(Sum_F_weights)\n",
    "print(\"Output of the perceptron:\", F_Activation_Output)"
   ]
  },
  {
   "cell_type": "code",
   "execution_count": 97,
   "id": "41fa4432",
   "metadata": {},
   "outputs": [
    {
     "name": "stdout",
     "output_type": "stream",
     "text": [
      "Sigmoid Activation Function Output For Input Layer: 1.0\n"
     ]
    }
   ],
   "source": [
    "# Sigmoid Activation Functions \n",
    "F_Sigmoid_Output = Sigmoid_Function(Sum_F_weights)\n",
    "print(\"Sigmoid Activation Function Output For Input Layer:\", F_Sigmoid_Output)"
   ]
  },
  {
   "cell_type": "code",
   "execution_count": null,
   "id": "b41cfd86",
   "metadata": {},
   "outputs": [],
   "source": []
  }
 ],
 "metadata": {
  "kernelspec": {
   "display_name": "Python 3 (ipykernel)",
   "language": "python",
   "name": "python3"
  },
  "language_info": {
   "codemirror_mode": {
    "name": "ipython",
    "version": 3
   },
   "file_extension": ".py",
   "mimetype": "text/x-python",
   "name": "python",
   "nbconvert_exporter": "python",
   "pygments_lexer": "ipython3",
   "version": "3.11.5"
  }
 },
 "nbformat": 4,
 "nbformat_minor": 5
}
