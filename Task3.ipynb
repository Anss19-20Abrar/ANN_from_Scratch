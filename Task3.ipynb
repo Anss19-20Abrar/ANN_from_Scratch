{
 "cells": [
  {
   "cell_type": "code",
   "execution_count": 35,
   "id": "2206bb8e-cfa1-41a1-9337-793db84d6cd1",
   "metadata": {},
   "outputs": [],
   "source": [
    "# Libraries\n",
    "import pandas as pd\n",
    "import numpy as np \n"
   ]
  },
  {
   "cell_type": "code",
   "execution_count": 36,
   "id": "b74c614b-57bc-437f-b363-49e55f887f79",
   "metadata": {},
   "outputs": [],
   "source": [
    "# importing dataset \n",
    "data = pd.read_csv(\"data.csv\")"
   ]
  },
  {
   "cell_type": "code",
   "execution_count": 37,
   "id": "7d5a9923-0a03-49e3-92b1-e69154fdf92a",
   "metadata": {},
   "outputs": [
    {
     "data": {
      "text/html": [
       "<div>\n",
       "<style scoped>\n",
       "    .dataframe tbody tr th:only-of-type {\n",
       "        vertical-align: middle;\n",
       "    }\n",
       "\n",
       "    .dataframe tbody tr th {\n",
       "        vertical-align: top;\n",
       "    }\n",
       "\n",
       "    .dataframe thead th {\n",
       "        text-align: right;\n",
       "    }\n",
       "</style>\n",
       "<table border=\"1\" class=\"dataframe\">\n",
       "  <thead>\n",
       "    <tr style=\"text-align: right;\">\n",
       "      <th></th>\n",
       "      <th>acidity</th>\n",
       "      <th>sugar</th>\n",
       "      <th>density</th>\n",
       "      <th>pH</th>\n",
       "      <th>wine_quality</th>\n",
       "    </tr>\n",
       "  </thead>\n",
       "  <tbody>\n",
       "    <tr>\n",
       "      <th>0</th>\n",
       "      <td>7.8</td>\n",
       "      <td>12.3</td>\n",
       "      <td>1.002</td>\n",
       "      <td>3.4</td>\n",
       "      <td>1</td>\n",
       "    </tr>\n",
       "    <tr>\n",
       "      <th>1</th>\n",
       "      <td>6.5</td>\n",
       "      <td>8.9</td>\n",
       "      <td>1.010</td>\n",
       "      <td>3.1</td>\n",
       "      <td>0</td>\n",
       "    </tr>\n",
       "    <tr>\n",
       "      <th>2</th>\n",
       "      <td>8.2</td>\n",
       "      <td>15.2</td>\n",
       "      <td>0.995</td>\n",
       "      <td>3.5</td>\n",
       "      <td>1</td>\n",
       "    </tr>\n",
       "    <tr>\n",
       "      <th>3</th>\n",
       "      <td>5.5</td>\n",
       "      <td>5.1</td>\n",
       "      <td>1.015</td>\n",
       "      <td>3.2</td>\n",
       "      <td>0</td>\n",
       "    </tr>\n",
       "    <tr>\n",
       "      <th>4</th>\n",
       "      <td>7.1</td>\n",
       "      <td>10.6</td>\n",
       "      <td>1.000</td>\n",
       "      <td>3.7</td>\n",
       "      <td>1</td>\n",
       "    </tr>\n",
       "  </tbody>\n",
       "</table>\n",
       "</div>"
      ],
      "text/plain": [
       "   acidity  sugar  density   pH  wine_quality\n",
       "0      7.8   12.3    1.002  3.4             1\n",
       "1      6.5    8.9    1.010  3.1             0\n",
       "2      8.2   15.2    0.995  3.5             1\n",
       "3      5.5    5.1    1.015  3.2             0\n",
       "4      7.1   10.6    1.000  3.7             1"
      ]
     },
     "execution_count": 37,
     "metadata": {},
     "output_type": "execute_result"
    }
   ],
   "source": [
    "data.head()"
   ]
  },
  {
   "cell_type": "markdown",
   "id": "b9ff2394-3185-4c54-9125-5e11fe340191",
   "metadata": {},
   "source": [
    "Features Saparating "
   ]
  },
  {
   "cell_type": "code",
   "execution_count": 38,
   "id": "b8fad103-02b9-4184-b4a2-8d970d5018b5",
   "metadata": {},
   "outputs": [],
   "source": [
    "Columns = ['acidity', 'sugar', 'density', 'pH']"
   ]
  },
  {
   "cell_type": "code",
   "execution_count": 39,
   "id": "d07153e6-6519-49c2-9e7c-bb0f8a46bf0d",
   "metadata": {},
   "outputs": [],
   "source": [
    "x = data[Columns]"
   ]
  },
  {
   "cell_type": "code",
   "execution_count": 40,
   "id": "b4c27c75-c707-4672-8b5d-3dbea287d6a6",
   "metadata": {},
   "outputs": [],
   "source": [
    "y = data['wine_quality']"
   ]
  },
  {
   "cell_type": "markdown",
   "id": "1a2c9832-a021-43b7-9cbb-2c24846ca139",
   "metadata": {},
   "source": [
    "Layer 1 "
   ]
  },
  {
   "cell_type": "code",
   "execution_count": 41,
   "id": "751df748-8005-4399-a090-3ab59736539c",
   "metadata": {},
   "outputs": [],
   "source": [
    " # create function of Sigmoid\n",
    "def Sigmoid(x):\n",
    "    return 1/(1 + np.exp(-x))"
   ]
  },
  {
   "cell_type": "code",
   "execution_count": 42,
   "id": "93e86d48-1867-4d66-9089-f7fa02473d9e",
   "metadata": {},
   "outputs": [],
   "source": [
    "# Binary cross-entropy loss\n",
    "def binary_crossentropy(y_true, y_pred):\n",
    "    epsilon = 1e-15  # Avoid division by zero\n",
    "    y_pred = np.clip(y_pred, epsilon, 1 - epsilon)\n",
    "    return -(y_true * np.log(y_pred) + (1 - y_true) * np.log(1 - y_pred))"
   ]
  },
  {
   "cell_type": "code",
   "execution_count": 43,
   "id": "5a24c792-34a3-4fa7-90b4-5dade4382c2d",
   "metadata": {},
   "outputs": [],
   "source": [
    "weight1 = np.random.rand(4, 4) # Change the shape (4, 4) as needed\n",
    "weigiaseht1 = weight1*0.01\n",
    "biase1 = np.random.randint(1, 101, size=4)\n",
    "biase1 = biase1* 0.01"
   ]
  },
  {
   "cell_type": "code",
   "execution_count": 44,
   "id": "510fe014-a1be-4127-9b60-88e594a0e166",
   "metadata": {},
   "outputs": [
    {
     "name": "stdout",
     "output_type": "stream",
     "text": [
      "Output:  [[0.99999796 0.99999997 0.99999926 0.99999948]\n",
      " [0.99997375 0.99999893 0.99998128 0.99999097]\n",
      " [0.99999956 1.         0.99999995 0.99999994]\n",
      " [0.99972168 0.99996591 0.99947613 0.99986458]\n",
      " [0.99999321 0.99999985 0.99999722 0.99999847]\n",
      " [0.99996971 0.99999834 0.99994708 0.99998197]\n",
      " [0.99999905 0.99999999 0.9999998  0.99999984]\n",
      " [0.99998826 0.99999961 0.99998857 0.99999523]\n",
      " [0.99999627 0.99999993 0.99999811 0.99999898]\n",
      " [0.99991542 0.99999305 0.9998305  0.99995008]\n",
      " [0.99999963 1.         0.99999994 0.99999994]\n",
      " [0.99970577 0.9999541  0.99876239 0.99976577]\n",
      " [0.99999489 0.99999989 0.99999736 0.99999857]\n",
      " [0.99997126 0.99999863 0.99996734 0.9999876 ]\n",
      " [0.99999983 1.         0.99999998 0.99999998]\n",
      " [0.99992342 0.99999476 0.9999079  0.99997048]\n",
      " [0.99999843 0.99999998 0.99999951 0.99999965]\n",
      " [0.99995717 0.99999745 0.99993494 0.99997794]\n",
      " [0.99999947 1.         0.99999989 0.9999999 ]\n",
      " [0.99997894 0.99999915 0.99998039 0.99999196]]\n"
     ]
    }
   ],
   "source": [
    "Sum = np.dot(x, weight1) + biase1\n",
    "Sig_Fun = Sigmoid(Sum)\n",
    "print(\"Output: \",Sig_Fun)"
   ]
  },
  {
   "cell_type": "markdown",
   "id": "4395a097-c09e-4a5b-9a19-c403d54296ac",
   "metadata": {},
   "source": [
    "Layer 2"
   ]
  },
  {
   "cell_type": "code",
   "execution_count": 45,
   "id": "dd727d8f-b559-4d8e-9b3e-e57975c3157a",
   "metadata": {},
   "outputs": [],
   "source": [
    "weight2 = np.random.rand(4, 4) # Change the shape (4, 4) as needed\n",
    "weight2 = weight2*0.01\n",
    "biase2 = np.random.randint(1, 101, size=4)\n",
    "biase2 = biase2* 0.01"
   ]
  },
  {
   "cell_type": "code",
   "execution_count": 46,
   "id": "79f1c8cf-b2f9-4f67-b153-f574342e39d0",
   "metadata": {},
   "outputs": [
    {
     "name": "stdout",
     "output_type": "stream",
     "text": [
      "Output:  [[0.5389151  0.62573725 0.58042094 0.70789848]\n",
      " [0.53891503 0.62573718 0.58042087 0.70789843]\n",
      " [0.5389151  0.62573725 0.58042095 0.70789848]\n",
      " [0.53891369 0.62573578 0.58042004 0.70789776]\n",
      " [0.53891509 0.62573724 0.58042093 0.70789847]\n",
      " [0.53891495 0.6257371  0.58042085 0.70789841]\n",
      " [0.5389151  0.62573725 0.58042094 0.70789848]\n",
      " [0.53891506 0.62573721 0.58042091 0.70789846]\n",
      " [0.53891509 0.62573724 0.58042094 0.70789848]\n",
      " [0.53891465 0.62573679 0.58042066 0.70789826]\n",
      " [0.5389151  0.62573725 0.58042095 0.70789848]\n",
      " [0.53891234 0.62573423 0.58041966 0.70789732]\n",
      " [0.53891509 0.62573724 0.58042093 0.70789847]\n",
      " [0.538915   0.62573715 0.58042086 0.70789842]\n",
      " [0.5389151  0.62573725 0.58042095 0.70789848]\n",
      " [0.53891481 0.62573697 0.58042072 0.70789832]\n",
      " [0.5389151  0.62573725 0.58042094 0.70789848]\n",
      " [0.53891491 0.62573706 0.58042081 0.70789838]\n",
      " [0.5389151  0.62573725 0.58042094 0.70789848]\n",
      " [0.53891503 0.62573718 0.58042089 0.70789844]]\n"
     ]
    }
   ],
   "source": [
    "Sum2 = np.dot(Sig_Fun, weight2) + biase2\n",
    "Sig_Fun2 = Sigmoid(Sum2)\n",
    "print(\"Output: \",Sig_Fun2)"
   ]
  },
  {
   "cell_type": "markdown",
   "id": "20ebf25f-8864-47b5-b81b-00c886fec2d4",
   "metadata": {},
   "source": [
    "Layer 3"
   ]
  },
  {
   "cell_type": "code",
   "execution_count": 47,
   "id": "faf12e0d-2e03-44d0-b8ad-1a552c0bdf50",
   "metadata": {},
   "outputs": [],
   "source": [
    "weight3 = np.random.rand(4) # Change the shape (4) as needed\n",
    "weight3 = weight3*0.01\n",
    "biase3 = np.random.randint(1, 101)\n",
    "biase3 = biase3* 0.01"
   ]
  },
  {
   "cell_type": "code",
   "execution_count": 48,
   "id": "2aba937c-e739-4a76-9b5c-c7bc4edf1e3a",
   "metadata": {},
   "outputs": [
    {
     "name": "stdout",
     "output_type": "stream",
     "text": [
      "Output:  [0.61786719 0.61786719 0.61786719 0.61786719 0.61786719 0.61786719\n",
      " 0.61786719 0.61786719 0.61786719 0.61786719 0.61786719 0.61786718\n",
      " 0.61786719 0.61786719 0.61786719 0.61786719 0.61786719 0.61786719\n",
      " 0.61786719 0.61786719]\n"
     ]
    }
   ],
   "source": [
    "Sum3 = np.dot(Sig_Fun2, weight3) + biase3\n",
    "Sig_Fun3 = Sigmoid(Sum3)\n",
    "loss = np.mean(binary_crossentropy(y, Sig_Fun3))\n",
    "print(\"Output: \",Sig_Fun3)"
   ]
  },
  {
   "cell_type": "markdown",
   "id": "3c3a1989-88f4-4f62-a5c2-656b91e8af57",
   "metadata": {},
   "source": [
    "Calculating Loss "
   ]
  },
  {
   "cell_type": "code",
   "execution_count": 49,
   "id": "3191796a-a24f-4bdc-8e3f-beec50ba375d",
   "metadata": {},
   "outputs": [],
   "source": [
    "# Calculate loss row-wise after Layer 3\n",
    "row_loss = np.array([binary_crossentropy(true_label, predicted_label) for true_label, predicted_label in zip(y, Sig_Fun3)])"
   ]
  },
  {
   "cell_type": "code",
   "execution_count": 50,
   "id": "c5c6c4fe-7a93-4b9f-b888-de3bf9b7e9ce",
   "metadata": {},
   "outputs": [
    {
     "name": "stdout",
     "output_type": "stream",
     "text": [
      "[0.48148175 0.96198706 0.48148175 0.96198705 0.48148175 0.96198706\n",
      " 0.48148175 0.96198706 0.48148175 0.96198706 0.48148175 0.96198704\n",
      " 0.48148175 0.96198706 0.48148175 0.96198706 0.48148175 0.96198706\n",
      " 0.48148175 0.96198706]\n"
     ]
    }
   ],
   "source": [
    "print(row_loss)"
   ]
  },
  {
   "cell_type": "code",
   "execution_count": 51,
   "id": "fd4620b0-a9a6-4788-a248-84038fa3f76b",
   "metadata": {},
   "outputs": [
    {
     "name": "stdout",
     "output_type": "stream",
     "text": [
      "Loss:  0.7217344023000881\n"
     ]
    }
   ],
   "source": [
    "# Calculating Loss for total dataset\n",
    "print(\"Loss: \",loss)"
   ]
  },
  {
   "cell_type": "code",
   "execution_count": null,
   "id": "ba786b02-0600-40a7-886c-032e4ceba497",
   "metadata": {},
   "outputs": [],
   "source": []
  },
  {
   "cell_type": "code",
   "execution_count": null,
   "id": "be766953-55cb-4d2a-8882-01ddb6901a52",
   "metadata": {},
   "outputs": [],
   "source": []
  },
  {
   "cell_type": "code",
   "execution_count": null,
   "id": "666c42f4-899b-4740-b070-6e6bcb888a2b",
   "metadata": {},
   "outputs": [],
   "source": []
  },
  {
   "cell_type": "code",
   "execution_count": null,
   "id": "6a91be73-c553-4580-bb5e-1696ef2e5046",
   "metadata": {},
   "outputs": [],
   "source": []
  },
  {
   "cell_type": "code",
   "execution_count": null,
   "id": "0b0ba770-0fd5-4c7d-8d95-5644c5779899",
   "metadata": {},
   "outputs": [],
   "source": []
  }
 ],
 "metadata": {
  "kernelspec": {
   "display_name": "Python 3 (ipykernel)",
   "language": "python",
   "name": "python3"
  },
  "language_info": {
   "codemirror_mode": {
    "name": "ipython",
    "version": 3
   },
   "file_extension": ".py",
   "mimetype": "text/x-python",
   "name": "python",
   "nbconvert_exporter": "python",
   "pygments_lexer": "ipython3",
   "version": "3.11.5"
  }
 },
 "nbformat": 4,
 "nbformat_minor": 5
}
